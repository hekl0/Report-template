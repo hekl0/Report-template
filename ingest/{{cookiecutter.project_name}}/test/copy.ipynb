{
 "cells": [
  {
   "cell_type": "code",
   "execution_count": null,
   "metadata": {},
   "outputs": [],
   "source": [
    "import os\n",
    "os.environ['PYSPARK_PYTHON'] = '/opt/conda/bin/python'"
   ]
  },
  {
   "cell_type": "code",
   "execution_count": null,
   "metadata": {},
   "outputs": [],
   "source": [
    "import datalabframework as dlf\n",
    "import datalabframework.logging as log "
   ]
  },
  {
   "cell_type": "code",
   "execution_count": null,
   "metadata": {},
   "outputs": [],
   "source": [
    "dlf.project.load('test')"
   ]
  },
  {
   "cell_type": "code",
   "execution_count": null,
   "metadata": {},
   "outputs": [],
   "source": [
    "engine = dlf.project.engine()\n",
    "spark = engine.context()"
   ]
  },
  {
   "cell_type": "markdown",
   "metadata": {},
   "source": [
    "### Fullscan copy"
   ]
  },
  {
   "cell_type": "code",
   "execution_count": null,
   "metadata": {},
   "outputs": [],
   "source": [
    "md = dlf.project.metadata()\n",
    "path = md['resources'].keys()[0]\n",
    "\n",
    "md_src = dlf.project.resource(path, 'source')\n",
    "md_trg = dlf.project.resource(path, 'target')\n",
    "\n",
    "md_src.update({'date_window':None, 'date_start':None, 'date_end':None})\n",
    "md_trg.update({'date_window':None, 'date_start':None, 'date_end':None})\n",
    "\n",
    "engine.copy(md_src,md_trg,'overwrite')"
   ]
  },
  {
   "cell_type": "markdown",
   "metadata": {},
   "source": [
    "### Update copy"
   ]
  },
  {
   "cell_type": "code",
   "execution_count": null,
   "metadata": {},
   "outputs": [],
   "source": [
    "md_src = dlf.resource(path, 'source')\n",
    "md_trg = dlf.resource(path, 'target')\n",
    "\n",
    "engine.copy(md_src,md_trg)"
   ]
  },
  {
   "cell_type": "code",
   "execution_count": null,
   "metadata": {},
   "outputs": [],
   "source": [
    "engine.stop()"
   ]
  },
  {
   "cell_type": "code",
   "execution_count": null,
   "metadata": {},
   "outputs": [],
   "source": [
    "# from datalabframework.yaml import yaml\n",
    "\n",
    "# with open('../resources/metadata.yml', 'r') as f:\n",
    "#     md = yaml.load(f)\n",
    "\n",
    "# from collections import OrderedDict\n",
    "# d = dict()\n",
    "\n",
    "# for k,v in md['resources'].items():\n",
    "#     date_column = v.get('read', {}).get('filter', {}).get('column')\n",
    "#     data = {} if not date_column else {'date_column':date_column}\n",
    "#     d[k] = data\n",
    "\n",
    "# resources_md = {'profile':'default', 'resources': d}\n",
    "\n",
    "# with open('../resources/metadata.yml', 'w') as f:\n",
    "#     yaml.dump(resources_md, f)"
   ]
  }
 ],
 "metadata": {
  "kernelspec": {
   "display_name": "Python 3",
   "language": "python",
   "name": "python3"
  },
  "language_info": {
   "codemirror_mode": {
    "name": "ipython",
    "version": 3
   },
   "file_extension": ".py",
   "mimetype": "text/x-python",
   "name": "python",
   "nbconvert_exporter": "python",
   "pygments_lexer": "ipython3",
   "version": "3.6.7"
  }
 },
 "nbformat": 4,
 "nbformat_minor": 2
}
